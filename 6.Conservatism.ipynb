{
 "cells": [
  {
   "cell_type": "code",
   "execution_count": 3,
   "id": "41555d79-43bc-42b9-b497-9e151446c2b0",
   "metadata": {},
   "outputs": [],
   "source": [
    "library(clusterProfiler)\n",
    "library(ggplot2)\n",
    "library(ggalt)\n",
    "library(pheatmap)\n",
    "library(stringr)\n",
    "source(\"/ifs3/clliu/tools/utils.r\")\n",
    "source(\"/ifs3/clliu/tools/plot.r\")"
   ]
  },
  {
   "cell_type": "code",
   "execution_count": 10,
   "id": "398209d7-39ac-4c98-a07f-c7f61611fe0b",
   "metadata": {},
   "outputs": [
    {
     "name": "stdout",
     "output_type": "stream",
     "text": [
      "Directory '/ifs3/scdata/4.1ChIPseq/5.Conservatism/H3K27me3' already exists.\n"
     ]
    },
    {
     "data": {
      "text/html": [
       "TRUE"
      ],
      "text/latex": [
       "TRUE"
      ],
      "text/markdown": [
       "TRUE"
      ],
      "text/plain": [
       "[1] TRUE"
      ]
     },
     "metadata": {},
     "output_type": "display_data"
    },
    {
     "name": "stdout",
     "output_type": "stream",
     "text": [
      "Directory '/ifs3/scdata/4.1ChIPseq/5.Conservatism/H3K27me3' already exists.\n"
     ]
    },
    {
     "data": {
      "text/html": [
       "<strong>png:</strong> 3"
      ],
      "text/latex": [
       "\\textbf{png:} 3"
      ],
      "text/markdown": [
       "**png:** 3"
      ],
      "text/plain": [
       "png \n",
       "  3 "
      ]
     },
     "metadata": {},
     "output_type": "display_data"
    },
    {
     "name": "stdout",
     "output_type": "stream",
     "text": [
      "Directory '/ifs3/scdata/4.1ChIPseq/5.Conservatism/H3K27me3' already exists.\n"
     ]
    },
    {
     "data": {
      "text/html": [
       "<strong>png:</strong> 3"
      ],
      "text/latex": [
       "\\textbf{png:} 3"
      ],
      "text/markdown": [
       "**png:** 3"
      ],
      "text/plain": [
       "png \n",
       "  3 "
      ]
     },
     "metadata": {},
     "output_type": "display_data"
    }
   ],
   "source": [
    "prefix = 'H3K27me3'\n",
    "\n",
    "if(prefix == 'H3K9me3'){\n",
    "    cutoff = 22000\n",
    "}else if (prefix == 'H3K27me3'){\n",
    "    cutoff = 30000\n",
    "}\n",
    "\n",
    "outdir = paste0('/ifs3/scdata/4.1ChIPseq/5.Conservatism/',prefix)\n",
    "\n",
    "ensure_directory_exists(outdir)\n",
    "geneset_filepath = \"/ifs3/scdata/4.ChIPseq/2.H3K9me3_H3K27me3_enrich/geneset.gmt\"\n",
    "\n",
    "gene_sample_filepath = paste0(\"/ifs3/scdata/4.1ChIPseq/1.width/\",prefix,\"/N_gene_sample_width.csv\")\n",
    "\n",
    "\n",
    "gene_sample = read.csv(gene_sample_filepath,sep = ',',check.names = FALSE)\n",
    "\n",
    "gene_sample = gene_sample[, !names(gene_sample) %in% c(\"mean\")]\n",
    "gene_sample_nogene_name =gene_sample[,-1]\n",
    "\n",
    "gene_sample_nogene_name = gene_sample_nogene_name[, colnames(gene_sample_nogene_name)[substring(colnames(gene_sample_nogene_name), 12, 12) == 'N']]\n",
    "gene_sample_nogene_name$greater_than_cutoff <- apply(gene_sample_nogene_name, 1, function(row) sum(row > cutoff))\n",
    "gene_sample_nogene_name$gene_name  = gene_sample$gene_name                                  \n",
    "\n",
    "gene_sample_nogene_name = gene_sample_nogene_name[order(-gene_sample_nogene_name$greater_than_cutoff),]\n",
    "                                                     write.csv(gene_sample_nogene_name,paste0(outdir,'/data.csv'))\n",
    "mergedf = gene_sample_nogene_name\n",
    "gene_name = mergedf$gene_name\n",
    "                                                     \n",
    "mydata = data.frame()\n",
    "\n",
    "mergelist <- list()\n",
    "mergelist_length <- length(gene_name) %/% 1500\n",
    "start = 1\n",
    "end = 1500\n",
    "mergelist[[1]] <- gene_name[start:end]\n",
    "\n",
    "for (i in 2:mergelist_length) {\n",
    "  start <- start + 1000\n",
    "  end <- end + 1000\n",
    "  mergelist[[i]] <- gene_name[start:end]\n",
    "}\n",
    "\n",
    "\n",
    "gene_set = read.gmt(geneset_filepath)\n",
    "for (i in 1:length(mergelist)){\n",
    "    gene_list = mergelist[[i]]\n",
    "\n",
    "    enrich_result <- enricher(gene_list, \n",
    "                           TERM2GENE = gene_set, \n",
    "                           pvalueCutoff = 0.05,\n",
    "                           minGSSize = 1,  # 最小基因集大小\n",
    "                           maxGSSize = 10000)  # 最大基因集大小\n",
    "    enrich_result@result$bin = i\n",
    "    mydata = rbind(enrich_result@result,mydata)\n",
    "}\n",
    "write.csv(mydata,paste0(outdir,'/',prefix,'_enrich_result.csv'))\n",
    "#vision\n",
    "df = mydata[,c(1,6,10)]\n",
    "df = df[order(df$bin),]\n",
    "df[,'p.adjust'] = -1 * log10(df$p.adjust)\n",
    "p=ggplot(data=df,\n",
    "         aes(x=bin,y=p.adjust,\n",
    "             group=ID,colour=ID))+\n",
    "  geom_point(size=3)+\n",
    "  labs(x=\"1500/bin\", y=\"-log10p.adjust\")+\n",
    "  geom_xspline(spline_shape = -0.6)+\n",
    "  scale_colour_manual(values=phy.cols) +\n",
    "  create_custom_theme()\n",
    "save_png_and_pdf(p,paste0(outdir,'/',prefix,'_enrich_result'))\n",
    "                                                     \n",
    "                                                     \n",
    "                                                     \n",
    "data = subset(mergedf,greater_than_cutoff >= 10)\n",
    "row.names(data) = data$gene_name\n",
    "data = data[,which(colnames(data) != c('greater_than_cutoff','gene_name'))]\n",
    "\n",
    "# 计算数据中的实际最小值和最大值\n",
    "min_value <- 0\n",
    "max_value <- 70000\n",
    "\n",
    "# 自定义颜色向量，用于设置颜色范围\n",
    "my_colors <- colorRampPalette(c(\"blue\",\"yellow\"))(100)\n",
    "\n",
    "# 使用pheatmap绘制热图，并设置颜色范围\n",
    "p = pheatmap(data, \n",
    "         show_rownames = FALSE,\n",
    "         breaks = seq(min_value, max_value, length.out = 101),  # 根据实际数据范围设置分割点\n",
    "         color = my_colors,\n",
    "         cluster_rows = FALSE,\n",
    "         # cluster_cols = FALSE\n",
    "            )\n",
    "\n",
    "save_png_and_pdf(p,paste0(outdir,'/',prefix,'_pheatmap'))"
   ]
  },
  {
   "cell_type": "code",
   "execution_count": null,
   "id": "79cdbbbc-60d2-4bc7-b663-36758f6f5bef",
   "metadata": {},
   "outputs": [],
   "source": []
  },
  {
   "cell_type": "code",
   "execution_count": 8,
   "id": "cbc7fad4-e0d0-40f1-aba1-802edd41428b",
   "metadata": {},
   "outputs": [
    {
     "name": "stdout",
     "output_type": "stream",
     "text": [
      "Directory '/ifs3/scdata/4.1ChIPseq/5.Conservatism/H3K4me3' already exists.\n"
     ]
    },
    {
     "data": {
      "text/html": [
       "TRUE"
      ],
      "text/latex": [
       "TRUE"
      ],
      "text/markdown": [
       "TRUE"
      ],
      "text/plain": [
       "[1] TRUE"
      ]
     },
     "metadata": {},
     "output_type": "display_data"
    },
    {
     "name": "stdout",
     "output_type": "stream",
     "text": [
      "Directory '/ifs3/scdata/4.1ChIPseq/5.Conservatism/H3K4me3' already exists.\n"
     ]
    },
    {
     "data": {
      "text/html": [
       "<strong>png:</strong> 3"
      ],
      "text/latex": [
       "\\textbf{png:} 3"
      ],
      "text/markdown": [
       "**png:** 3"
      ],
      "text/plain": [
       "png \n",
       "  3 "
      ]
     },
     "metadata": {},
     "output_type": "display_data"
    },
    {
     "name": "stdout",
     "output_type": "stream",
     "text": [
      "Directory '/ifs3/scdata/4.1ChIPseq/5.Conservatism/H3K4me3' already exists.\n"
     ]
    },
    {
     "data": {
      "text/html": [
       "<strong>png:</strong> 3"
      ],
      "text/latex": [
       "\\textbf{png:} 3"
      ],
      "text/markdown": [
       "**png:** 3"
      ],
      "text/plain": [
       "png \n",
       "  3 "
      ]
     },
     "metadata": {},
     "output_type": "display_data"
    }
   ],
   "source": [
    "prefix = 'H3K4me3'\n",
    "\n",
    "if(prefix == 'H3K4me3'){\n",
    "    cutoff = 2000\n",
    "}else if (prefix == 'H3K27ac'){\n",
    "    cutoff = 1500\n",
    "}\n",
    "\n",
    "outdir = paste0('/ifs3/scdata/4.1ChIPseq/5.Conservatism/',prefix)\n",
    "\n",
    "ensure_directory_exists(outdir)\n",
    "geneset_filepath = \"/ifs3/scdata/4.ChIPseq/2.H3K9me3_H3K27me3_enrich/geneset.gmt\"\n",
    "\n",
    "gene_sample_filepath = paste0(\"/ifs3/scdata/4.1ChIPseq/1.width/\",prefix,\"/N_gene_sample_width.csv\")\n",
    "\n",
    "\n",
    "gene_sample = read.csv(gene_sample_filepath,sep = ',',check.names = FALSE)\n",
    "\n",
    "gene_sample = gene_sample[, !names(gene_sample) %in% c(\"mean\")]\n",
    "gene_sample_nogene_name =gene_sample[,-1]\n",
    "\n",
    "gene_sample_nogene_name = gene_sample_nogene_name[, colnames(gene_sample_nogene_name)[substring(colnames(gene_sample_nogene_name), 12, 12) == 'N']]\n",
    "gene_sample_nogene_name$greater_than_cutoff <- apply(gene_sample_nogene_name, 1, function(row) sum(row > cutoff))\n",
    "gene_sample_nogene_name$gene_name  = gene_sample$gene_name                                  \n",
    "\n",
    "gene_sample_nogene_name = gene_sample_nogene_name[order(-gene_sample_nogene_name$greater_than_cutoff),]\n",
    "                                                     write.csv(gene_sample_nogene_name,paste0(outdir,'/data.csv'))\n",
    "mergedf = gene_sample_nogene_name\n",
    "gene_name = mergedf$gene_name\n",
    "                                                     \n",
    "mydata = data.frame()\n",
    "\n",
    "mergelist <- list()\n",
    "mergelist_length <- length(gene_name) %/% 500\n",
    "start = 1\n",
    "end = 500\n",
    "mergelist[[1]] <- gene_name[start:end]\n",
    "\n",
    "for (i in 2:mergelist_length) {\n",
    "  start <- start + 250\n",
    "  end <- end + 250\n",
    "  mergelist[[i]] <- gene_name[start:end]\n",
    "}\n",
    "\n",
    "\n",
    "gene_set = read.gmt(geneset_filepath)\n",
    "for (i in 1:length(mergelist)){\n",
    "    gene_list = mergelist[[i]]\n",
    "\n",
    "    enrich_result <- enricher(gene_list, \n",
    "                           TERM2GENE = gene_set, \n",
    "                           pvalueCutoff = 0.05,\n",
    "                           minGSSize = 1,  # 最小基因集大小\n",
    "                           maxGSSize = 10000)  # 最大基因集大小\n",
    "    enrich_result@result$bin = i\n",
    "    mydata = rbind(enrich_result@result,mydata)\n",
    "}\n",
    "write.csv(mydata,paste0(outdir,'/',prefix,'_enrich_result.csv'))\n",
    "#vision\n",
    "df = mydata[,c(1,6,10)]\n",
    "df = df[order(df$bin),]\n",
    "df[,'p.adjust'] = -1 * log10(df$p.adjust)\n",
    "p=ggplot(data=df,\n",
    "         aes(x=bin,y=p.adjust,\n",
    "             group=ID,colour=ID))+\n",
    "  geom_point(size=3)+\n",
    "  labs(x=\"1500/bin\", y=\"-log10p.adjust\")+\n",
    "  geom_xspline(spline_shape = -0.6)+\n",
    "  scale_colour_manual(values=phy.cols) +\n",
    "  create_custom_theme()\n",
    "save_png_and_pdf(p,paste0(outdir,'/',prefix,'_enrich_result'))\n",
    "                                                     \n",
    "                                                     \n",
    "                                                     \n",
    "data = subset(mergedf,greater_than_cutoff >= 10)\n",
    "row.names(data) = data$gene_name\n",
    "data = data[,which(colnames(data) != c('greater_than_cutoff','gene_name'))]\n",
    "\n",
    "# 计算数据中的实际最小值和最大值\n",
    "min_value <- 0\n",
    "max_value <- 7000\n",
    "\n",
    "# 自定义颜色向量，用于设置颜色范围\n",
    "my_colors <- colorRampPalette(c(\"blue\",\"yellow\"))(100)\n",
    "\n",
    "# 使用pheatmap绘制热图，并设置颜色范围\n",
    "p = pheatmap(data, \n",
    "         show_rownames = FALSE,\n",
    "         breaks = seq(min_value, max_value, length.out = 101),  # 根据实际数据范围设置分割点\n",
    "         color = my_colors,\n",
    "         cluster_rows = FALSE,\n",
    "         cluster_cols = FALSE)\n",
    "\n",
    "save_png_and_pdf(p,paste0(outdir,'/',prefix,'_pheatmap'))"
   ]
  },
  {
   "cell_type": "code",
   "execution_count": null,
   "id": "6e41e750-7e12-4757-b205-92dd40a71de0",
   "metadata": {},
   "outputs": [],
   "source": []
  }
 ],
 "metadata": {
  "kernelspec": {
   "display_name": "rtcga",
   "language": "R",
   "name": "rtcga"
  },
  "language_info": {
   "codemirror_mode": "r",
   "file_extension": ".r",
   "mimetype": "text/x-r-source",
   "name": "R",
   "pygments_lexer": "r",
   "version": "4.2.3"
  }
 },
 "nbformat": 4,
 "nbformat_minor": 5
}
