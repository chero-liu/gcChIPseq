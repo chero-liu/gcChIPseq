{
 "cells": [
  {
   "cell_type": "code",
   "execution_count": 2,
   "id": "bd413c76-20b4-4d3b-b137-a21f3fb3dc1d",
   "metadata": {},
   "outputs": [],
   "source": [
    "import pandas as pd\n",
    "import gffutils\n",
    "import os\n",
    "import pybedtools\n",
    "from pybedtools.featurefuncs import TSS\n",
    "from gffutils.helpers import asinterval\n",
    "\n",
    "def tss_generator():\n",
    "    for transcript in db.features_of_type('transcript'):\n",
    "        yield TSS(asinterval(transcript),upstream=1,downstream=0)\n",
    "\n",
    "samplefile = \"/ifs3/scdata/RNA-Seq_counts/sample\"\n",
    "samplefilepath = pd.read_csv(samplefile,header=None)"
   ]
  },
  {
   "cell_type": "code",
   "execution_count": 8,
   "id": "33ec54d5-3921-4b33-a03d-0733a3f5f643",
   "metadata": {
    "tags": []
   },
   "outputs": [],
   "source": [
    "for i in range(len(samplefilepath)):\n",
    "    samplefilepath[0][i]\n",
    "    input = samplefilepath[0][i]+\"/transcript_anno_duplicates.bed\"\n",
    "    db_file = samplefilepath[0][i]+'/transcript_anno_duplicates.db'\n",
    "    outdir = samplefilepath[0][i]\n",
    "    \n",
    "    \n",
    "    # Check if the database already exists, if not create it\n",
    "    if not os.path.exists(db_file):\n",
    "        gffutils.create_db(input, dbfn=db_file, force=True, keep_order=True, merge_strategy='merge', disable_infer_genes=True,disable_infer_transcripts=True,sort_attribute_values=True)\n",
    "\n",
    "    db = gffutils.FeatureDB(db_file)\n",
    "\n",
    "    tsses = pybedtools.BedTool(tss_generator()).saveas(samplefilepath[0][i]+'/transcript_tsses.gtf')\n",
    "\n",
    "    tsses_10_4kb = tsses.slop(l=10000,r=4000,genome='hg38',output=samplefilepath[0][i]+'/transcript_tsses_-10-4kb.gtf')\n",
    "    tsses_10_4kb = tsses.slop(l=10000,r=4000,genome='hg38',output=samplefilepath[0][i]+'/transcript_tsses_-10-4kb.bed')\n"
   ]
  }
 ],
 "metadata": {
  "kernelspec": {
   "display_name": "scanpy",
   "language": "python",
   "name": "scanpy"
  },
  "language_info": {
   "codemirror_mode": {
    "name": "ipython",
    "version": 3
   },
   "file_extension": ".py",
   "mimetype": "text/x-python",
   "name": "python",
   "nbconvert_exporter": "python",
   "pygments_lexer": "ipython3",
   "version": "3.10.12"
  }
 },
 "nbformat": 4,
 "nbformat_minor": 5
}
