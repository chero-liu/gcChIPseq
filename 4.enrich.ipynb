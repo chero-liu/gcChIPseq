{
 "cells": [
  {
   "cell_type": "code",
   "execution_count": 2,
   "id": "abcdc765-4508-4a50-862e-3e365a188733",
   "metadata": {
    "tags": []
   },
   "outputs": [],
   "source": [
    "library(clusterProfiler)\n",
    "library(ggplot2)\n",
    "library(ggalt)\n",
    "library(pheatmap)\n",
    "source(\"/ifs3/clliu/tools/utils.r\")\n",
    "source(\"/ifs3/clliu/tools/plot.r\")"
   ]
  },
  {
   "cell_type": "code",
   "execution_count": 25,
   "id": "215ce3d0-fb05-42a6-b711-76586804725c",
   "metadata": {},
   "outputs": [
    {
     "name": "stdout",
     "output_type": "stream",
     "text": [
      "Directory '/ifs3/scdata/4.1ChIPseq/2.enrich//H3K9me3' already exists.\n",
      "Directory '/ifs3/scdata/4.1ChIPseq/2.enrich//H3K9me3' already exists.\n",
      "Directory '/ifs3/scdata/4.1ChIPseq/2.enrich//H3K27me3' already exists.\n",
      "Directory '/ifs3/scdata/4.1ChIPseq/2.enrich//H3K27me3' already exists.\n"
     ]
    }
   ],
   "source": [
    "#H3K9me3\n",
    "#H3K27me3\n",
    "\n",
    "for (var in c('H3K9me3','H3K27me3')){\n",
    "    prefix = var\n",
    "    sampletype = 'N'\n",
    "\n",
    "    input = paste0(\"/ifs3/scdata/4.1ChIPseq/1.width/\",prefix,\"/\",sampletype,\"_gene_sample_width.csv\")\n",
    "    outdir = paste0('/ifs3/scdata/4.1ChIPseq/2.enrich/','/',prefix)\n",
    "\n",
    "    ensure_directory_exists(outdir)\n",
    "    geneset_filepath = \"/ifs3/scdata/4.ChIPseq/2.H3K9me3_H3K27me3_enrich/geneset.gmt\"\n",
    "\n",
    "\n",
    "    #get data and save\n",
    "    geneWidth = read.csv(input,check.names = FALSE)\n",
    "\n",
    "    mydata = data.frame()\n",
    "    n <- length(geneWidth$gene_name)\n",
    "    splits <- seq(1, n, by=1500)\n",
    "\n",
    "    mergelist <- lapply(splits, function(i) {\n",
    "      end <- min(i+1499, n)\n",
    "      return(geneWidth$gene_name[i:end])\n",
    "    })\n",
    "    gene_set = read.gmt(geneset_filepath)\n",
    "    for (i in 1:length(mergelist)){\n",
    "        gene_list = mergelist[[i]]\n",
    "\n",
    "        enrich_result <- enricher(gene_list, \n",
    "                               TERM2GENE = gene_set, \n",
    "                               pvalueCutoff = 0.05,\n",
    "                               minGSSize = 1,  # 最小基因集大小\n",
    "                               maxGSSize = 10000)  # 最大基因集大小\n",
    "        enrich_result@result$bin = i\n",
    "        mydata = rbind(enrich_result@result,mydata)\n",
    "    }\n",
    "    write.csv(mydata,paste0(outdir,'/',sampletype,'_enrich_result.csv'))\n",
    "    #vision\n",
    "    df = mydata[,c(1,6,10)]\n",
    "    df = df[order(df$bin),]\n",
    "    df[,'p.adjust'] = -1 * log10(df$p.adjust)\n",
    "    p=ggplot(data=df,\n",
    "             aes(x=bin,y=p.adjust,\n",
    "                 group=ID,colour=ID))+\n",
    "      geom_point(size=3)+\n",
    "      labs(x=\"bin\", y=\"-log10p.adjust\")+\n",
    "      geom_xspline(spline_shape = -0.6)+\n",
    "      scale_colour_manual(values=phy.cols) +\n",
    "      create_custom_theme()\n",
    "    save_png_and_pdf(p,paste0(outdir,'/',sampletype,'_enrich_result'))\n",
    "}"
   ]
  },
  {
   "cell_type": "code",
   "execution_count": null,
   "id": "b0a3353f-b9a5-47de-9e45-7ed5c3fc2acf",
   "metadata": {},
   "outputs": [],
   "source": []
  },
  {
   "cell_type": "code",
   "execution_count": 4,
   "id": "f52ae327-ed2f-4008-a167-444e2a555fcf",
   "metadata": {},
   "outputs": [
    {
     "name": "stdout",
     "output_type": "stream",
     "text": [
      "Directory '/ifs3/scdata/4.1ChIPseq/2.enrich//H3K4me3' already exists.\n",
      "Directory '/ifs3/scdata/4.1ChIPseq/2.enrich//H3K4me3' already exists.\n",
      "Directory '/ifs3/scdata/4.1ChIPseq/2.enrich//H3K27ac' already exists.\n",
      "Directory '/ifs3/scdata/4.1ChIPseq/2.enrich//H3K27ac' already exists.\n"
     ]
    }
   ],
   "source": [
    "#H3K4me3\n",
    "#H3K27ac\n",
    "\n",
    "# 方案1\n",
    "for (var in c('H3K4me3','H3K27ac')){\n",
    "    prefix = var\n",
    "    sampletype = 'T'\n",
    "\n",
    "    input = paste0(\"/ifs3/scdata/4.1ChIPseq/1.width/\",prefix,\"/\",sampletype,\"_gene_sample_width.csv\")\n",
    "    outdir = paste0('/ifs3/scdata/4.1ChIPseq/2.enrich/','/',prefix)\n",
    "\n",
    "    ensure_directory_exists(outdir)\n",
    "    geneset_filepath = \"/ifs3/scdata/4.ChIPseq/2.H3K9me3_H3K27me3_enrich/geneset.gmt\"\n",
    "\n",
    "\n",
    "    #get data and save\n",
    "    geneWidth = read.csv(input,check.names = FALSE)\n",
    "\n",
    "    mydata = data.frame()\n",
    "    n <- length(geneWidth$gene_name)\n",
    "    splits <- seq(1, n, by=1500)\n",
    "\n",
    "    mergelist <- lapply(splits, function(i) {\n",
    "      end <- min(i+1499, n)\n",
    "      return(geneWidth$gene_name[i:end])\n",
    "    })\n",
    "    gene_set = read.gmt(geneset_filepath)\n",
    "    for (i in 1:length(mergelist)){\n",
    "        gene_list = mergelist[[i]]\n",
    "\n",
    "        enrich_result <- enricher(gene_list, \n",
    "                               TERM2GENE = gene_set, \n",
    "                               pvalueCutoff = 0.05,\n",
    "                               minGSSize = 1,  # 最小基因集大小\n",
    "                               maxGSSize = 10000)  # 最大基因集大小\n",
    "        enrich_result@result$bin = i\n",
    "        mydata = rbind(enrich_result@result,mydata)\n",
    "    }\n",
    "    write.csv(mydata,paste0(outdir,'/',sampletype,'_enrich_result.csv'))\n",
    "    #vision\n",
    "    df = mydata[,c(1,6,10)]\n",
    "    df = df[order(df$bin),]\n",
    "    df[,'p.adjust'] = -1 * log10(df$p.adjust)\n",
    "    p=ggplot(data=df,\n",
    "             aes(x=bin,y=p.adjust,\n",
    "                 group=ID,colour=ID))+\n",
    "      geom_point(size=3)+\n",
    "      labs(x=\"bin\", y=\"-log10p.adjust\")+\n",
    "      geom_xspline(spline_shape = -0.6)+\n",
    "      scale_colour_manual(values=phy.cols) +\n",
    "      create_custom_theme()\n",
    "    save_png_and_pdf(p,paste0(outdir,'/',sampletype,'_enrich_result'))\n",
    "}"
   ]
  },
  {
   "cell_type": "code",
   "execution_count": 73,
   "id": "d4886ef3-6537-42fd-9a8b-73b3d99c66c7",
   "metadata": {},
   "outputs": [
    {
     "name": "stdout",
     "output_type": "stream",
     "text": [
      "Directory '/ifs3/scdata/4.1ChIPseq/2.enrich//H3K27ac' already exists.\n"
     ]
    },
    {
     "data": {
      "text/html": [
       "TRUE"
      ],
      "text/latex": [
       "TRUE"
      ],
      "text/markdown": [
       "TRUE"
      ],
      "text/plain": [
       "[1] TRUE"
      ]
     },
     "metadata": {},
     "output_type": "display_data"
    },
    {
     "name": "stdout",
     "output_type": "stream",
     "text": [
      "Directory '/ifs3/scdata/4.1ChIPseq/2.enrich//H3K27ac' already exists.\n"
     ]
    },
    {
     "data": {
      "text/html": [
       "<strong>png:</strong> 2"
      ],
      "text/latex": [
       "\\textbf{png:} 2"
      ],
      "text/markdown": [
       "**png:** 2"
      ],
      "text/plain": [
       "png \n",
       "  2 "
      ]
     },
     "metadata": {},
     "output_type": "display_data"
    },
    {
     "data": {
      "image/png": "[encoded data removed]",
      "text/plain": [
       "plot without title"
      ]
     },
     "metadata": {
      "image/png": {
       "height": 420,
       "width": 420
      }
     },
     "output_type": "display_data"
    }
   ],
   "source": [
    "#H3K4me3\n",
    "#H3K27ac\n",
    "#方案2\n",
    "prefix = 'H3K27ac'\n",
    "sampletype = 'N'\n",
    "\n",
    "input = paste0(\"/ifs3/scdata/4.1ChIPseq/1.width/\",prefix,\"/\",sampletype,\"_gene_sample_width.csv\")\n",
    "outdir = paste0('/ifs3/scdata/4.1ChIPseq/2.enrich/','/',prefix)\n",
    "\n",
    "ensure_directory_exists(outdir)\n",
    "geneset_filepath = \"/ifs3/scdata/4.ChIPseq/2.H3K9me3_H3K27me3_enrich/geneset.gmt\"\n",
    "\n",
    "#get data and save\n",
    "geneWidth = read.csv(input,check.names = FALSE)\n",
    "\n",
    "set.seed(12345)\n",
    "top500gene = geneWidth$gene_name[1:500]\n",
    "random500gene = sample(geneWidth$gene_name,500)\n",
    "\n",
    "gene_set = read.gmt(geneset_filepath)\n",
    "top500gene_enrich_result <- enricher(top500gene, \n",
    "                           TERM2GENE = gene_set, \n",
    "                           pvalueCutoff = 0.05,\n",
    "                           minGSSize = 1,  # 最小基因集大小\n",
    "                           maxGSSize = 10000)  # 最大基因集大小\n",
    "\n",
    "random500gene_enrich_result <- enricher(random500gene, \n",
    "                           TERM2GENE = gene_set, \n",
    "                           pvalueCutoff = 0.05,\n",
    "                           minGSSize = 1,  # 最小基因集大小\n",
    "                           maxGSSize = 10000)  # 最大基因集大小\n",
    "top500gene_enrich_result@result$genelist = 'top500gene'\n",
    "random500gene_enrich_result@result$genelist = 'random500gene'\n",
    "\n",
    "data = rbind(top500gene_enrich_result@result[,c(1,6,10)],random500gene_enrich_result@result[,c(1,6,10)])\n",
    "\n",
    "write.csv(data,paste0(outdir,'/',sampletype,'_random_And_top500gene_enrich_result.csv'))\n",
    "\n",
    "df = reshape(data, idvar = \"ID\", timevar = \"genelist\", direction = \"wide\")\n",
    "\n",
    "df = t(df[,-1])\n",
    "\n",
    "rownames(df) = c('top500gene','random500gene')\n",
    "\n",
    "# 使用pheatmap绘制热图，并设置颜色范围\n",
    "# 自定义颜色映射，从蓝色到红色\n",
    "my_color_palette <- colorRampPalette(c(\"yellow\", \"white\",\"blue\" ))(100)\n",
    "my_breaks <- seq(0.05, 0.8, length.out = 101)\n",
    "p = pheatmap(df,cluster_rows = FALSE,\n",
    "         cluster_cols = FALSE,\n",
    "         cellheight = 60,\n",
    "         # display_numbers = TRUE,\n",
    "         fontsize = 15,\n",
    "             breaks = my_breaks,\n",
    "        color = my_color_palette)\n",
    "save_png_and_pdf(p,paste0(outdir,'/',sampletype,'__random_And_top500gene_enrich_result_pheatmap'))"
   ]
  },
  {
   "cell_type": "code",
   "execution_count": null,
   "id": "a9fdb08c-437f-4ea6-8ee3-48bd452a4050",
   "metadata": {},
   "outputs": [],
   "source": []
  },
  {
   "cell_type": "code",
   "execution_count": null,
   "id": "f507403b-474c-4552-a3b6-95a4060eba7e",
   "metadata": {},
   "outputs": [],
   "source": []
  }
 ],
 "metadata": {
  "kernelspec": {
   "display_name": "rtcga",
   "language": "R",
   "name": "rtcga"
  },
  "language_info": {
   "codemirror_mode": "r",
   "file_extension": ".r",
   "mimetype": "text/x-r-source",
   "name": "R",
   "pygments_lexer": "r",
   "version": "4.2.3"
  }
 },
 "nbformat": 4,
 "nbformat_minor": 5
}
