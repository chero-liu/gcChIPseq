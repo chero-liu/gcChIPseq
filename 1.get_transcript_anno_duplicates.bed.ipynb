{
 "cells": [
  {
   "cell_type": "code",
   "execution_count": 1,
   "id": "32f3bd5c-ef50-4d4c-8d34-3ba180e77d9d",
   "metadata": {},
   "outputs": [],
   "source": [
    "import pybedtools\n",
    "import pandas as pd\n",
    "import os\n",
    "import sys\n",
    "\n",
    "sys.path.append(\"/ifs3/clliu/tools/\")\n",
    "from utils import ensure_directory_exists,aggregate_dataframe"
   ]
  },
  {
   "cell_type": "code",
   "execution_count": 12,
   "id": "66caeeb1-e3ab-4809-8d69-fe1eced9e869",
   "metadata": {},
   "outputs": [],
   "source": [
    "samplefile = \"/ifs3/scdata/RNA-Seq_counts/sample\"\n",
    "samplefilepath = pd.read_csv(samplefile,header=None)"
   ]
  },
  {
   "cell_type": "code",
   "execution_count": 40,
   "id": "f21a7b2b-48af-4fce-88dc-b14130adccae",
   "metadata": {
    "tags": []
   },
   "outputs": [],
   "source": [
    "transcript_filepath = \"/ifs3/scdata/GRCh38gtf/Homo_sapiens.GRCh38.106.modif.bed\"\n",
    "a = pybedtools.BedTool(transcript_filepath)\n",
    "for i in range(len(samplefilepath)):\n",
    "    input = samplefilepath[0][i]+\"/gene_abund.tab\"\n",
    "    outdir = samplefilepath[0][i]+\"/transcript_anno.bed\"\n",
    "\n",
    "\n",
    "    data = pd.read_csv(input,sep = '\\t')\n",
    "    data = data.drop(['Gene ID','Gene Name','Coverage','FPKM','TPM'],axis=1)\n",
    "    data  = data[['Reference','Start','End','Strand']]\n",
    "    data.to_csv(samplefilepath[0][i]+'/gene_abund.bed',sep='\\t',header=None,index=None)\n",
    "    # overlap\n",
    "    b = pybedtools.BedTool(samplefilepath[0][i]+'/gene_abund.bed')\n",
    "    intersected = b.intersect(a,wa=True,wb=True)\n",
    "    intersected.saveas(outdir)\n",
    "    df = pd.read_csv(\"/ifs3/scdata/RNA-Seq_counts/RS1807-011-T_out/transcript_anno.bed\",sep='\\t',header=None)\n",
    "    df = df.drop([4,7,8,10],axis=1)\n",
    "    df['room'] = df[0] + ':' + df[1].astype(str) + '-' + df[2].astype(str)\n",
    "\n",
    "    duplicates = df.duplicated('room', keep='first')\n",
    "    result_df = df[~duplicates]\n",
    "    result_df = result_df.drop('room',axis=1)\n",
    "    result_df = result_df[[0,5,6,1,2,9,3,11,12]]\n",
    "    result_df.to_csv(samplefilepath[0][i]+\"/transcript_anno_duplicates.bed\",sep='\\t',header=None,index=None)"
   ]
  },
  {
   "cell_type": "code",
   "execution_count": null,
   "id": "8f9719f4-8540-4486-a0b9-0f8b8ac69f6f",
   "metadata": {},
   "outputs": [],
   "source": []
  }
 ],
 "metadata": {
  "kernelspec": {
   "display_name": "scanpy",
   "language": "python",
   "name": "scanpy"
  },
  "language_info": {
   "codemirror_mode": {
    "name": "ipython",
    "version": 3
   },
   "file_extension": ".py",
   "mimetype": "text/x-python",
   "name": "python",
   "nbconvert_exporter": "python",
   "pygments_lexer": "ipython3",
   "version": "3.10.12"
  }
 },
 "nbformat": 4,
 "nbformat_minor": 5
}
