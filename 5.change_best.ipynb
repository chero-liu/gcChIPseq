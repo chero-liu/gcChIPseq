{
 "cells": [
  {
   "cell_type": "code",
   "execution_count": 2,
   "id": "6a3b1bc5-03db-4fea-bdbe-3550af662887",
   "metadata": {},
   "outputs": [],
   "source": [
    "library(clusterProfiler)\n",
    "library(ggplot2)\n",
    "library(ggalt)\n",
    "\n",
    "source(\"/ifs3/clliu/tools/utils.r\")\n",
    "source(\"/ifs3/clliu/tools/plot.r\")"
   ]
  },
  {
   "cell_type": "code",
   "execution_count": 59,
   "id": "39187fce-0d48-4264-9ba4-b6ffd266b563",
   "metadata": {},
   "outputs": [
    {
     "name": "stdout",
     "output_type": "stream",
     "text": [
      "Directory '/ifs3/scdata/4.1ChIPseq/3.H3K9me3_H3K27me3_change_best/H3K27me3' has been created.\n"
     ]
    },
    {
     "data": {
      "text/html": [
       "TRUE"
      ],
      "text/latex": [
       "TRUE"
      ],
      "text/markdown": [
       "TRUE"
      ],
      "text/plain": [
       "[1] TRUE"
      ]
     },
     "metadata": {},
     "output_type": "display_data"
    }
   ],
   "source": [
    "prefix = 'H3K27me3'\n",
    "sampletype = 'diff'\n",
    "input = paste0('/ifs3/scdata/4.1ChIPseq/1.width/',prefix)\n",
    "\n",
    "outdir = paste0('/ifs3/scdata/4.1ChIPseq/3.H3K9me3_H3K27me3_change_best/',prefix)\n",
    "ensure_directory_exists(outdir)\n",
    "\n",
    "geneset_filepath = \"/ifs3/scdata/4.ChIPseq/2.H3K9me3_H3K27me3_enrich/geneset.gmt\"\n",
    "\n",
    "\n",
    "N = subset(read.csv(paste0(input,'/N_gene_sample_width.csv'),check.names = FALSE),select = c('gene_name','mean'))\n",
    "T = subset(read.csv(paste0(input,'/T_gene_sample_width.csv'),check.names = FALSE),select = c('gene_name','mean'))\n",
    "\n",
    "df = merge(N,T,by = 'gene_name',all = TRUE)\n",
    "df[is.na(df)] = 0\n",
    "df$diff = abs(df$mean.x - df$mean.y)\n",
    "mydata = data.frame()\n",
    "n <- length(df[order(-df$diff),]$gene_name)\n",
    "splits <- seq(1, n, by=1500)\n",
    "\n",
    "mergelist <- lapply(splits, function(i) {\n",
    "  end <- min(i+1499, n)\n",
    "  return(df[order(-df$diff),]$gene_name[i:end])\n",
    "})\n",
    "gene_set = read.gmt(geneset_filepath)\n",
    "for (i in 1:length(mergelist)){\n",
    "    gene_list = mergelist[[i]]\n",
    "\n",
    "    enrich_result <- enricher(gene_list, \n",
    "                           TERM2GENE = gene_set, \n",
    "                           pvalueCutoff = 0.05,\n",
    "                           minGSSize = 1,  # 最小基因集大小\n",
    "                           maxGSSize = 10000)  # 最大基因集大小\n",
    "    enrich_result@result$bin = i\n",
    "    mydata = rbind(enrich_result@result,mydata)\n",
    "}\n",
    "write.csv(mydata,paste0(outdir,'/',sampletype,'_enrich_result.csv'))\n",
    "#vision\n",
    "df = mydata[,c(1,6,10)]\n",
    "df = df[order(df$bin),]\n",
    "df[,'p.adjust'] = -1 * log10(df$p.adjust)\n",
    "p=ggplot(data=df,\n",
    "         aes(x=bin,y=p.adjust,\n",
    "             group=ID,colour=ID))+\n",
    "  geom_point(size=3)+\n",
    "  labs(x=\"bin\", y=\"-log10p.adjust\")+\n",
    "  geom_xspline(spline_shape = -0.6)+\n",
    "  scale_colour_manual(values=phy.cols) +\n",
    "  create_custom_theme()\n",
    "save_png_and_pdf(p,paste0(outdir,'/',sampletype,'_enrich_result'))"
   ]
  },
  {
   "cell_type": "code",
   "execution_count": null,
   "id": "079e26c5-3dd0-443e-8de6-0cf67bf254bb",
   "metadata": {},
   "outputs": [],
   "source": []
  },
  {
   "cell_type": "code",
   "execution_count": 4,
   "id": "92423c50-54c1-4a98-8ffe-19c0ef830916",
   "metadata": {},
   "outputs": [
    {
     "name": "stdout",
     "output_type": "stream",
     "text": [
      "Directory '/ifs3/scdata/4.1ChIPseq/4.H3K4me3_H3K27ac_change_best/H3K27ac' has been created.\n"
     ]
    },
    {
     "data": {
      "text/html": [
       "TRUE"
      ],
      "text/latex": [
       "TRUE"
      ],
      "text/markdown": [
       "TRUE"
      ],
      "text/plain": [
       "[1] TRUE"
      ]
     },
     "metadata": {},
     "output_type": "display_data"
    },
    {
     "name": "stdout",
     "output_type": "stream",
     "text": [
      "Directory '/ifs3/scdata/4.1ChIPseq/4.H3K4me3_H3K27ac_change_best/H3K27ac' already exists.\n"
     ]
    },
    {
     "data": {
      "text/html": [
       "<strong>png:</strong> 3"
      ],
      "text/latex": [
       "\\textbf{png:} 3"
      ],
      "text/markdown": [
       "**png:** 3"
      ],
      "text/plain": [
       "png \n",
       "  3 "
      ]
     },
     "metadata": {},
     "output_type": "display_data"
    }
   ],
   "source": [
    "prefix = 'H3K27ac'\n",
    "sampletype = 'diff'\n",
    "input = paste0('/ifs3/scdata/4.1ChIPseq/1.width/',prefix)\n",
    "\n",
    "outdir = paste0('/ifs3/scdata/4.1ChIPseq/4.H3K4me3_H3K27ac_change_best/',prefix)\n",
    "ensure_directory_exists(outdir)\n",
    "\n",
    "geneset_filepath = \"/ifs3/scdata/4.ChIPseq/2.H3K9me3_H3K27me3_enrich/geneset.gmt\"\n",
    "\n",
    "\n",
    "N = subset(read.csv(paste0(input,'/N_gene_sample_width.csv'),check.names = FALSE),select = c('gene_name','mean'))\n",
    "T = subset(read.csv(paste0(input,'/T_gene_sample_width.csv'),check.names = FALSE),select = c('gene_name','mean'))\n",
    "\n",
    "df = merge(N,T,by = 'gene_name',all = TRUE)\n",
    "df[is.na(df)] = 0\n",
    "df$diff = abs(df$mean.x - df$mean.y)\n",
    "mydata = data.frame()\n",
    "n <- length(df[order(-df$diff),]$gene_name)\n",
    "splits <- seq(1, n, by=1500)\n",
    "\n",
    "mergelist <- lapply(splits, function(i) {\n",
    "  end <- min(i+1499, n)\n",
    "  return(df[order(-df$diff),]$gene_name[i:end])\n",
    "})\n",
    "gene_set = read.gmt(geneset_filepath)\n",
    "for (i in 1:length(mergelist)){\n",
    "    gene_list = mergelist[[i]]\n",
    "\n",
    "    enrich_result <- enricher(gene_list, \n",
    "                           TERM2GENE = gene_set, \n",
    "                           pvalueCutoff = 0.05,\n",
    "                           minGSSize = 1,  # 最小基因集大小\n",
    "                           maxGSSize = 10000)  # 最大基因集大小\n",
    "    enrich_result@result$bin = i\n",
    "    mydata = rbind(enrich_result@result,mydata)\n",
    "}\n",
    "write.csv(mydata,paste0(outdir,'/',sampletype,'_enrich_result.csv'))\n",
    "#vision\n",
    "df = mydata[,c(1,6,10)]\n",
    "df = df[order(df$bin),]\n",
    "df[,'p.adjust'] = -1 * log10(df$p.adjust)\n",
    "p=ggplot(data=df,\n",
    "         aes(x=bin,y=p.adjust,\n",
    "             group=ID,colour=ID))+\n",
    "  geom_point(size=3)+\n",
    "  labs(x=\"bin\", y=\"-log10p.adjust\")+\n",
    "  geom_xspline(spline_shape = -0.6)+\n",
    "  scale_colour_manual(values=phy.cols) +\n",
    "  create_custom_theme()\n",
    "save_png_and_pdf(p,paste0(outdir,'/',sampletype,'_enrich_result'))"
   ]
  },
  {
   "cell_type": "code",
   "execution_count": 57,
   "id": "2c6febf6-7845-4384-870c-244abd289446",
   "metadata": {},
   "outputs": [],
   "source": []
  }
 ],
 "metadata": {
  "kernelspec": {
   "display_name": "rtcga",
   "language": "R",
   "name": "rtcga"
  },
  "language_info": {
   "codemirror_mode": "r",
   "file_extension": ".r",
   "mimetype": "text/x-r-source",
   "name": "R",
   "pygments_lexer": "r",
   "version": "4.2.3"
  }
 },
 "nbformat": 4,
 "nbformat_minor": 5
}
